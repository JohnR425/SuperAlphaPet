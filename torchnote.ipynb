{
 "cells": [
  {
   "cell_type": "code",
   "execution_count": 1,
   "metadata": {},
   "outputs": [],
   "source": [
    "import eventnames\n",
    "import numpy as np"
   ]
  },
  {
   "cell_type": "code",
   "execution_count": 3,
   "metadata": {},
   "outputs": [
    {
     "name": "stdout",
     "output_type": "stream",
     "text": [
      "[0.5, 0.5]\n"
     ]
    }
   ],
   "source": [
    "# calculate actual probabilities for tier from table\n",
    "#Wiki page lists odds you get AT LEAST ONE of a specific pet from each tier\n",
    "# There is no prioritization of curret tier, (wiki is wrong?)\n",
    "#turn 1 \n",
    "odds = [15.0, 15.0]\n",
    "\n",
    "def normalize_odds(odds):\n",
    "    ''' Normalizes Shop/Roll Chances into probability for each tier in each slot\n",
    "    '''\n",
    "    total = sum(odds)\n",
    "    norm = [odd_i/total for odd_i in odds]\n",
    "\n",
    "    return norm\n",
    "\n",
    "print(normalize_odds(odds))"
   ]
  },
  {
   "cell_type": "code",
   "execution_count": 4,
   "metadata": {},
   "outputs": [
    {
     "data": {
      "text/plain": [
       "0.05263157894736842"
      ]
     },
     "execution_count": 4,
     "metadata": {},
     "output_type": "execute_result"
    }
   ],
   "source": [
    "# standard pack tier 1 /2 N\n",
    "N1 = 9\n",
    "N2 = 10\n",
    "1/(N1+N2)"
   ]
  },
  {
   "cell_type": "code",
   "execution_count": 10,
   "metadata": {},
   "outputs": [
    {
     "data": {
      "text/plain": [
       "0.08192130423028166"
      ]
     },
     "execution_count": 10,
     "metadata": {},
     "output_type": "execute_result"
    }
   ],
   "source": [
    "1-(58/59)**5"
   ]
  },
  {
   "cell_type": "code",
   "execution_count": 11,
   "metadata": {},
   "outputs": [
    {
     "data": {
      "text/plain": [
       "58"
      ]
     },
     "execution_count": 11,
     "metadata": {},
     "output_type": "execute_result"
    }
   ],
   "source": [
    "N_tiers = [9, 10, 11, 11, 8, 9]\n",
    "sum(N_tiers)"
   ]
  },
  {
   "cell_type": "code",
   "execution_count": 18,
   "metadata": {},
   "outputs": [
    {
     "name": "stdout",
     "output_type": "stream",
     "text": [
      "1 1\n",
      "2 2\n",
      "2 3\n",
      "2 4\n",
      "3 5\n",
      "3 6\n",
      "3 6\n",
      "3 6\n",
      "3 6\n",
      "3 6\n"
     ]
    }
   ],
   "source": [
    "# Base class\n",
    "class Animal():\n",
    "\tdef __init__(self):\n",
    "\t\tself.name = \"\"\n",
    "\t\tself.tier = 0\n",
    "\t\tself.exp = 0\n",
    "\t\tself.level = 0\n",
    "\t\tself.health = 0\n",
    "\t\tself.attack = 0\n",
    "\n",
    "\t\t# Maybe code these as ints later\n",
    "\t\tself.trigger = \"\"\n",
    "\t\tself.food = \"\"\n",
    "\n",
    "\tdef levelup(self):\n",
    "\t\t# Check which animal placed on which, or make equivalent actions\n",
    "\t\tif self.exp==6: # Shouldn't allow this\n",
    "\t\t\treturn\n",
    "\t\tself.exp += 1\n",
    "\t\tif self.exp==2:\n",
    "\t\t\tself.level = 2\n",
    "\t\tif self.exp==5:\n",
    "\t\t\tself.level = 3\n",
    "\t\tself.health += 1\n",
    "\t\tself.attack += 1\n",
    "\t\t# Battle/Game Engine notices level up\n",
    "\tdef effect(self):\n",
    "\t\tpass\n",
    "\n",
    "class Ant(Animal):\n",
    "\tdef __init__(self):\n",
    "\t\tsuper().__init__()\n",
    "\t\t# Animal specific information\n",
    "\t\tself.name = \"Ant\"\n",
    "\t\tself.trigger=eventnames.ON_FAINT\n",
    "\t\tself.health = 1\n",
    "\t\tself.attack = 2\n",
    "\t\tself.tier = 1\n",
    "\t\tself.level = 1\n",
    "\t\tself.exp = 0\n",
    "\t\tself.needs = [\"team\"]\n",
    "\n",
    "\t# Maybe each animal has a list of needs (teams, shop, gold)\n",
    "\tdef effect(self, team):\n",
    "\t\t\"\"\"Faint: Give a random friend (+2/+1)/(+4/+2)/(+6/+3).\"\"\"\n",
    "\t\t\n",
    "\t\t# random remaining animal\n",
    "\t\t# Faint should have already happened, and ant removed\n",
    "\t\tpos = np.random.randint(team.size)\n",
    "\t\ttarget = team.getpos(pos)\n",
    "\t\ttarget.health += 1*self.level\n",
    "\t\ttarget.attack += 2*self.level\n",
    "\t\tteam.setpos(target)\n",
    "\n",
    "\n",
    "ant = Ant()\n",
    "\n",
    "for i in range(10):\n",
    "\tant.levelup()\n",
    "\tprint(ant.level, ant.exp)"
   ]
  },
  {
   "cell_type": "code",
   "execution_count": 23,
   "metadata": {},
   "outputs": [
    {
     "name": "stdout",
     "output_type": "stream",
     "text": [
      "1\n",
      "2\n",
      "2\n",
      "3\n"
     ]
    }
   ],
   "source": [
    "# Base Class\n",
    "class Food():\n",
    "\tdef __init__(self):\n",
    "\t\tself.cost = 0\n",
    "\t\tself.tier = 0\n",
    "\n",
    "\tdef effect(self):\n",
    "\t\tpass\n",
    "\n",
    "class Apple(Food):\n",
    "\tdef __init__(self):\n",
    "\t\t# Food specific information\n",
    "\t\tself.cost = 3\n",
    "\t\tself.tier = 1\n",
    "\tdef effect(self, target):\n",
    "\t\ttarget.health += 1\n",
    "\t\ttarget.attack += 1\n",
    "\n",
    "ant = Ant()\n",
    "print(ant.health)\n",
    "print(ant.attack)\n",
    "apple = Apple()\n",
    "# print(apple.cost)\n",
    "apple.effect(ant)\n",
    "print(ant.health)\n",
    "print(ant.attack)"
   ]
  },
  {
   "cell_type": "code",
   "execution_count": 31,
   "metadata": {},
   "outputs": [
    {
     "name": "stdout",
     "output_type": "stream",
     "text": [
      "1\n",
      "2\n",
      "3\n",
      "3\n"
     ]
    }
   ],
   "source": [
    "class Team():\n",
    "\tdef __init__(self):\n",
    "\t\t# Holds a list of animals\n",
    "\t\tself.animals = []\n",
    "\t\t\n",
    "ant = Ant()\n",
    "team = Team()\n",
    "team.animals.append(ant)\n",
    "print(team.animals[0].health)\n",
    "ant.health +=1\n",
    "print(team.animals[0].health)\n",
    "team.animals[0].health += 1\n",
    "print(ant.health)\n",
    "print(team.animals[0].health)"
   ]
  },
  {
   "cell_type": "code",
   "execution_count": 38,
   "metadata": {},
   "outputs": [
    {
     "name": "stdout",
     "output_type": "stream",
     "text": [
      "2\n",
      "[1]\n"
     ]
    }
   ],
   "source": [
    "x = [1,2]\n",
    "print(x.pop(1))\n",
    "print(x)"
   ]
  }
 ],
 "metadata": {
  "interpreter": {
   "hash": "31f2aee4e71d21fbe5cf8b01ff0e069b9275f58929596ceb00d14d90e3e16cd6"
  },
  "kernelspec": {
   "display_name": "Python 3.6.8 64-bit",
   "language": "python",
   "name": "python3"
  },
  "language_info": {
   "codemirror_mode": {
    "name": "ipython",
    "version": 3
   },
   "file_extension": ".py",
   "mimetype": "text/x-python",
   "name": "python",
   "nbconvert_exporter": "python",
   "pygments_lexer": "ipython3",
   "version": "3.8.10"
  },
  "orig_nbformat": 4
 },
 "nbformat": 4,
 "nbformat_minor": 2
}
