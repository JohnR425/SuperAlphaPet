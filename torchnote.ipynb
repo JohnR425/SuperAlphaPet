{
 "cells": [
  {
   "cell_type": "code",
   "execution_count": 11,
   "metadata": {},
   "outputs": [],
   "source": [
    "import eventnames\n",
    "import numpy as np"
   ]
  },
  {
   "cell_type": "code",
   "execution_count": 18,
   "metadata": {},
   "outputs": [
    {
     "name": "stdout",
     "output_type": "stream",
     "text": [
      "1 1\n",
      "2 2\n",
      "2 3\n",
      "2 4\n",
      "3 5\n",
      "3 6\n",
      "3 6\n",
      "3 6\n",
      "3 6\n",
      "3 6\n"
     ]
    }
   ],
   "source": [
    "# Base class\n",
    "class Animal():\n",
    "\tdef __init__(self):\n",
    "\t\tself.name = \"\"\n",
    "\t\tself.tier = 0\n",
    "\t\tself.exp = 0\n",
    "\t\tself.level = 0\n",
    "\t\tself.health = 0\n",
    "\t\tself.attack = 0\n",
    "\n",
    "\t\t# Maybe code these as ints later\n",
    "\t\tself.trigger = \"\"\n",
    "\t\tself.food = \"\"\n",
    "\n",
    "\tdef levelup(self):\n",
    "\t\t# Check which animal placed on which, or make equivalent actions\n",
    "\t\tif self.exp==6: # Shouldn't allow this\n",
    "\t\t\treturn\n",
    "\t\tself.exp += 1\n",
    "\t\tif self.exp==2:\n",
    "\t\t\tself.level = 2\n",
    "\t\tif self.exp==5:\n",
    "\t\t\tself.level = 3\n",
    "\t\tself.health += 1\n",
    "\t\tself.attack += 1\n",
    "\t\t# Battle/Game Engine notices level up\n",
    "\tdef effect(self):\n",
    "\t\tpass\n",
    "\n",
    "class Ant(Animal):\n",
    "\tdef __init__(self):\n",
    "\t\tsuper().__init__()\n",
    "\t\t# Animal specific information\n",
    "\t\tself.name = \"Ant\"\n",
    "\t\tself.trigger=eventnames.ON_FAINT\n",
    "\t\tself.health = 1\n",
    "\t\tself.attack = 2\n",
    "\t\tself.tier = 1\n",
    "\t\tself.level = 1\n",
    "\t\tself.exp = 0\n",
    "\t\tself.needs = [\"team\"]\n",
    "\n",
    "\t# Maybe each animal has a list of needs (teams, shop, gold)\n",
    "\tdef effect(self, team):\n",
    "\t\t\"\"\"Faint: Give a random friend (+2/+1)/(+4/+2)/(+6/+3).\"\"\"\n",
    "\t\t\n",
    "\t\t# random remaining animal\n",
    "\t\t# Faint should have already happened, and ant removed\n",
    "\t\tpos = np.random.randint(team.size)\n",
    "\t\ttarget = team.getpos(pos)\n",
    "\t\ttarget.health += 1*self.level\n",
    "\t\ttarget.attack += 2*self.level\n",
    "\t\tteam.setpos(target)\n",
    "\n",
    "\n",
    "ant = Ant()\n",
    "\n",
    "for i in range(10):\n",
    "\tant.levelup()\n",
    "\tprint(ant.level, ant.exp)"
   ]
  },
  {
   "cell_type": "code",
   "execution_count": 23,
   "metadata": {},
   "outputs": [
    {
     "name": "stdout",
     "output_type": "stream",
     "text": [
      "1\n",
      "2\n",
      "2\n",
      "3\n"
     ]
    }
   ],
   "source": [
    "# Base Class\n",
    "class Food():\n",
    "\tdef __init__(self):\n",
    "\t\tself.cost = 0\n",
    "\t\tself.tier = 0\n",
    "\n",
    "\tdef effect(self):\n",
    "\t\tpass\n",
    "\n",
    "class Apple(Food):\n",
    "\tdef __init__(self):\n",
    "\t\t# Food specific information\n",
    "\t\tself.cost = 3\n",
    "\t\tself.tier = 1\n",
    "\tdef effect(self, target):\n",
    "\t\ttarget.health += 1\n",
    "\t\ttarget.attack += 1\n",
    "\n",
    "ant = Ant()\n",
    "print(ant.health)\n",
    "print(ant.attack)\n",
    "apple = Apple()\n",
    "# print(apple.cost)\n",
    "apple.effect(ant)\n",
    "print(ant.health)\n",
    "print(ant.attack)"
   ]
  },
  {
   "cell_type": "code",
   "execution_count": 31,
   "metadata": {},
   "outputs": [
    {
     "name": "stdout",
     "output_type": "stream",
     "text": [
      "1\n",
      "2\n",
      "3\n",
      "3\n"
     ]
    }
   ],
   "source": [
    "class Team():\n",
    "\tdef __init__(self):\n",
    "\t\t# Holds a list of animals\n",
    "\t\tself.animals = []\n",
    "\t\t\n",
    "\t\n",
    "ant = Ant()\n",
    "team = Team()\n",
    "team.animals.append(ant)\n",
    "print(team.animals[0].health)\n",
    "ant.health +=1\n",
    "print(team.animals[0].health)\n",
    "team.animals[0].health += 1\n",
    "print(ant.health)\n",
    "print(team.animals[0].health)"
   ]
  },
  {
   "cell_type": "code",
   "execution_count": 35,
   "metadata": {},
   "outputs": [
    {
     "name": "stdout",
     "output_type": "stream",
     "text": [
      "None\n"
     ]
    }
   ],
   "source": [
    "def foo ():\n",
    "\treturn\n",
    "\n",
    "x = foo()\n",
    "print(x)"
   ]
  }
 ],
 "metadata": {
  "interpreter": {
   "hash": "0e5828f391354dc81aef343f0956e595eaef9c512cfa2a7f2529fd097c1a27f3"
  },
  "kernelspec": {
   "display_name": "Python 3.8.5 64-bit",
   "language": "python",
   "name": "python3"
  },
  "language_info": {
   "codemirror_mode": {
    "name": "ipython",
    "version": 3
   },
   "file_extension": ".py",
   "mimetype": "text/x-python",
   "name": "python",
   "nbconvert_exporter": "python",
   "pygments_lexer": "ipython3",
   "version": "3.8.5"
  },
  "orig_nbformat": 4
 },
 "nbformat": 4,
 "nbformat_minor": 2
}
